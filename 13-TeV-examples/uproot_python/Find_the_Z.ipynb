{
 "cells": [
  {
   "cell_type": "markdown",
   "metadata": {},
   "source": [
    "<CENTER><img src=\"../../images/ATLASOD.gif\" style=\"width:50%\"></CENTER>"
   ]
  },
  {
   "cell_type": "markdown",
   "metadata": {},
   "source": [
    "# Fitting Methods for the Z boson!\n",
    "This notebook uses ATLAS Open Data http://opendata.atlas.cern to show you the steps to find the Z boson and fit a curve to find the invariant mass.\n",
    "\n",
    "The whole notebook takes less than an hour to follow through.\n",
    "\n",
    "Notebooks are web applications that allow you to create and share documents that can contain:\n",
    "1. live code\n",
    "2. visualisations\n",
    "3. narrative text\n",
    "\n",
    "Notebooks are a perfect platform to develop in Python, since you'll need exactly those 3 things: code, visualisations and narrative text!\n",
    "\n",
    "By the end of this notebook you will be able to:\n",
    "1. find the Z boson yourself\n",
    "2. find the invariant mass of the Z boson using different fits"
   ]
  },
  {
   "cell_type": "markdown",
   "metadata": {},
   "source": [
    "<CENTER><img src=\"images/feynman_diagrams/Zee_feynman.png\" style=\"width:40%\"></CENTER>"
   ]
  },
  {
   "cell_type": "markdown",
   "metadata": {},
   "source": [
    "<a id='contents'></a>"
   ]
  },
  {
   "cell_type": "markdown",
   "metadata": {},
   "source": [
    "Contents: \n",
    "\n",
    "[Running a Jupyter notebook](#running) <br />\n",
    "[To setup everytime](#setupeverytime) <br />\n",
    "[Where's my data](#fraction) <br />\n",
    "[Calculate that invariant mass!](#good_leptons) <br />\n",
    "[Can we process the data yet?!](#load_data) <br />\n",
    "[Plot Data](#plot_data) <br />\n",
    "[Your tasks](#tasks) <br />\n",
    "[Going further](#going_further) <br />"
   ]
  },
  {
   "cell_type": "markdown",
   "metadata": {},
   "source": [
    "<a id='running'></a>"
   ]
  },
  {
   "cell_type": "markdown",
   "metadata": {},
   "source": [
    "## Running a Jupyter notebook\n",
    "\n",
    "To run the whole Jupyter notebook, in the top menu click Cell -> Run All.\n",
    "\n",
    "To propagate a change you've made to a piece of code, click Cell -> Run All Below.\n",
    "\n",
    "You can also run a single code cell, by using the keyboard shortcut Shift+Enter."
   ]
  },
  {
   "cell_type": "markdown",
   "metadata": {},
   "source": [
    "[Back to contents](#contents)"
   ]
  },
  {
   "cell_type": "markdown",
   "metadata": {},
   "source": [
    "<a id='setupeverytime'></a>"
   ]
  },
  {
   "cell_type": "markdown",
   "metadata": {},
   "source": [
    "## To setup everytime\n",
    "We're going to be using a number of tools to help us:\n",
    "* urllib: let us download files\n",
    "* uproot: lets us read .root files typically used in particle physics into data formats used in Python\n",
    "* pandas: lets us store data as dataframes, a format widely used in Python\n",
    "* numpy: provides numerical calculations such as histogramming\n",
    "* matplotlib: common tool for making plots, figures, images, visualisations\n",
    "* lmfit: defines special functions for fitting"
   ]
  },
  {
   "cell_type": "code",
   "execution_count": 196,
   "metadata": {
    "scrolled": true
   },
   "outputs": [],
   "source": [
    "import urllib.request # for downloading files\n",
    "import pandas as pd # to store data as dataframes\n",
    "import numpy as np # for numerical calculations such as histogramming\n",
    "import uproot3 # to read .root files as dataframes\n",
    "import matplotlib.pyplot as plt # for plotting\n",
    "from lmfit.models import VoigtModel, GaussianModel, BreitWignerModel #for fitting\n",
    "from IPython.display import Image\n",
    "from IPython.core.display import HTML "
   ]
  },
  {
   "cell_type": "markdown",
   "metadata": {},
   "source": [
    "<a id='fraction'></a>"
   ]
  },
  {
   "cell_type": "markdown",
   "metadata": {},
   "source": [
    "## Where's my data?"
   ]
  },
  {
   "cell_type": "code",
   "execution_count": 121,
   "metadata": {},
   "outputs": [
    {
     "data": {
      "text/plain": [
       "('data_A.exactly2lep.root', <http.client.HTTPMessage at 0x1fef0a3b460>)"
      ]
     },
     "execution_count": 121,
     "metadata": {},
     "output_type": "execute_result"
    }
   ],
   "source": [
    "filename = 'data_A.exactly2lep.root'\n",
    "url = 'https://atlas-opendata.web.cern.ch/atlas-opendata/samples/2020/exactly2lep/Data/'+filename\n",
    "urllib.request.urlretrieve(url, filename)"
   ]
  },
  {
   "cell_type": "markdown",
   "metadata": {},
   "source": [
    "[Back to contents](#contents)"
   ]
  },
  {
   "cell_type": "markdown",
   "metadata": {},
   "source": [
    "<a id='good_leptons'></a>"
   ]
  },
  {
   "cell_type": "markdown",
   "metadata": {},
   "source": [
    "##  Z Boson Decays"
   ]
  },
  {
   "cell_type": "markdown",
   "metadata": {},
   "source": [
    "The Z boson is a neutral elementary particle, which – along with its electrically charged cousin, the W – carries the weak force. \n",
    "\n",
    "Like the photon, but unlike the W boson, the Z boson mediates an interaction between particles without changing their flavour. While the photon only mediates forces between electrically charged particles, the Z boson also interacts with the uncharged neutrinos.\n",
    "\n",
    "In about 10% of the Z-decays, charged lepton-antilepton pairs are produced. The three possible charged lepton pair types are electron-positron, muon-antimuon, and tau-antitau pairs.\n",
    "\n",
    "In order to examine this decay channel, cuts are implemented on the data to ensure only events with exactly 2 leptons of opposite charge are examined."
   ]
  },
  {
   "cell_type": "markdown",
   "metadata": {},
   "source": [
    "## Invariant Mass"
   ]
  },
  {
   "cell_type": "markdown",
   "metadata": {},
   "source": [
    "Invariant mass, or rest mass, is proportional to the inertia of the particle when it is at rest. This is the \"m\" both in Newton's second law of motion, F=ma, and in Einstein's equation, E=m$c^2$ (in which E must be interpreted as the energy of the particle at rest). \n",
    "\n",
    "When a particle decays its mass before the decay can be calculated from the energies and momenta of the decay products. The calculated value of the mass is independent of the reference frame in which the energies and momenta are measured, so that that the mass called \"invariant\"."
   ]
  },
  {
   "cell_type": "markdown",
   "metadata": {},
   "source": [
    "## Calculate that invariant mass!"
   ]
  },
  {
   "cell_type": "markdown",
   "metadata": {},
   "source": [
    "Fill in the missing lines to calculate invariant mass.\n",
    "\n",
    "1. If the energy of the 2 leptons are *lep_E[0]* and *lep_E[1]*, write the sum of energy, *sumE*\n",
    "2. Write the sum of x-momentum, *sumpx*\n",
    "3. Do the same for y and z momenta (*sumpy* and *sumpz*)\n",
    "4. Now you have the x,y,z components sumpx,sumpy,sumpz. The vector **sump** = (sumpx,sumpy,sumpz). Write the magnitude of total momentum, *sump*.\n",
    "\n",
    "The invariant mass, *M*, of a parent particle decaying to two daughter particles is related to properties of the daughter particles by the formula:\n",
    "\n",
    "$$M^2=E^2-p^2,$$\n",
    "\n",
    "where *E* is the total energy of the daughter particles, and *p* is the magnitude of the vector sum of the momenta of the daughter particles. This is written in natural units with *c*=1.\n",
    "\n",
    "5. Write *Mll* using this formula for invariant mass"
   ]
  },
  {
   "cell_type": "code",
   "execution_count": 122,
   "metadata": {},
   "outputs": [],
   "source": [
    "# calculate dilepton invariant mass\n",
    "def calc_mll(lep_pt,lep_eta,lep_phi,lep_E): # lepton pt,eta,phi,energy\n",
    "    \n",
    "    # 0th lepton is [0], next lepton is [1] etc\n",
    "    # get the energy of 0th lepton by lep_E[0]\n",
    "\n",
    "    # sumE = sum of energy\n",
    "    sumE = lep_E[0] + lep_E[1]\n",
    "    \n",
    "    px_0 = lep_pt[0]*np.cos(lep_phi[0]) # x-momentum of 0th lepton\n",
    "    px_1 = lep_pt[1]*np.cos(lep_phi[1]) # x-momentum of 1st lepton\n",
    "    py_0 = lep_pt[0]*np.sin(lep_phi[0]) # y-momentum of 0th lepton\n",
    "    py_1 = lep_pt[1]*np.sin(lep_phi[1]) # y-momentum of 1st lepton\n",
    "    pz_0 = lep_pt[0]*np.sinh(lep_eta[0]) # z-momentum of 0th lepton\n",
    "    pz_1 = lep_pt[1]*np.sinh(lep_eta[1]) # z-momentum of 1st lepton\n",
    "    \n",
    "    # sumpx = sum of x-momenta\n",
    "    sumpx = px_0 + px_1\n",
    "    \n",
    "    # sumpy = sum of y-momenta\n",
    "    sumpy = py_0 + py_1\n",
    "    \n",
    "    # sumpz = sum of z-momenta\n",
    "    sumpz = py_0 + py_1\n",
    "    \n",
    "    # sump = magnitude of total momentum vector. Remember it's a vector!\n",
    "    sump = ((sumpx)**2 + (sumpy)**2 + (sumpz)**2)**(1/2)\n",
    "    \n",
    "    # Mll = invariant mass from M^2 = E^2 - p^2\n",
    "    Mll = ((sumE)**2 - (sump)**2)**(1/2)\n",
    "    \n",
    "    return Mll/1000 # divide by 1000 to go from MeV to GeV"
   ]
  },
  {
   "cell_type": "markdown",
   "metadata": {},
   "source": [
    "<a id='load_data'></a>"
   ]
  },
  {
   "cell_type": "markdown",
   "metadata": {},
   "source": [
    "## Can we process the data yet?!"
   ]
  },
  {
   "cell_type": "code",
   "execution_count": 123,
   "metadata": {},
   "outputs": [
    {
     "name": "stderr",
     "output_type": "stream",
     "text": [
      "C:\\Users\\Katie\\AppData\\Local\\Temp\\ipykernel_16316\\1532273414.py:30: RuntimeWarning: invalid value encountered in double_scalars\n",
      "  Mll = ((sumE)**2 - (sump)**2)**(1/2)\n",
      "C:\\Users\\Katie\\AppData\\Local\\Temp\\ipykernel_16316\\909676007.py:13: FutureWarning: The frame.append method is deprecated and will be removed from pandas in a future version. Use pandas.concat instead.\n",
      "  data_all = data_all.append(data) # append dataframe from this batch to the dataframe for the whole sample\n"
     ]
    }
   ],
   "source": [
    "filename = r'C:\\Users\\Katie\\Downloads\\data_A.exactly2lep.root'\n",
    "data_all = pd.DataFrame() # define empty pandas DataFrame to hold all data for this sample\n",
    "tree = uproot3.open(filename)[\"mini\"] # open the tree called mini\n",
    "numevents = uproot3.numentries(filename, \"mini\") # number of events\n",
    "\n",
    "for data in tree.iterate(['lep_pt','lep_eta','lep_phi','lep_E'], \n",
    "                         outputtype=pd.DataFrame, # choose output type as pandas DataFrame\n",
    "                         entrystop=numevents*0.001): # stop after fraction of events we want to process\n",
    "\n",
    "    # calculation of 2-lepton invariant mass                                                                                                                                      \n",
    "    data['mll'] = np.vectorize(calc_mll)(data.lep_pt, data.lep_eta, data.lep_phi, data.lep_E)\n",
    "\n",
    "    data_all = data_all.append(data) # append dataframe from this batch to the dataframe for the whole sample\n"
   ]
  },
  {
   "cell_type": "markdown",
   "metadata": {},
   "source": [
    "[Back to contents](#contents)"
   ]
  },
  {
   "cell_type": "markdown",
   "metadata": {},
   "source": [
    "<a id='plot_data'></a>"
   ]
  },
  {
   "cell_type": "markdown",
   "metadata": {},
   "source": [
    "## Function to plot Data"
   ]
  },
  {
   "cell_type": "code",
   "execution_count": 199,
   "metadata": {
    "scrolled": true
   },
   "outputs": [
    {
     "data": {
      "image/png": "[encoded data removed]",
      "text/plain": [
       "<Figure size 432x288 with 1 Axes>"
      ]
     },
     "metadata": {
      "needs_background": "light"
     },
     "output_type": "display_data"
    }
   ],
   "source": [
    "bin_edges = np.arange(start=35, # The interval includes this value\n",
    "                      stop=110, # The interval doesn't include this value\n",
    "                      step=5 ) # Spacing between values\n",
    "bin_centres = (bin_edges[:-1] + bin_edges[1:]) / 2 # central values of each bin\n",
    "\n",
    "# histogram the data\n",
    "data_x,_ = np.histogram(data_all['mll'], bins=bin_edges) \n",
    "plt.hist(data_all['mll'], bins=bin_edges, edgecolor='black', linewidth=1.2)\n",
    "\n",
    "# statistical error on the data\n",
    "data_x_errors = np.sqrt(data_x)\n",
    "\n",
    "# plot the data points\n",
    "plt.errorbar(x=bin_centres, \n",
    "                   y=data_x,\n",
    "                   yerr=data_x_errors,\n",
    "                   fmt='ko' ) # 'k' means black and 'o' is for circles\n",
    "\n",
    "#Axis Titles\n",
    "plt.xlabel('Mll [GeV]')\n",
    "plt.ylabel('Events')\n",
    "plt.title('Invariant Mass Histogram')\n",
    "\n",
    "# make the y-axis log scale\n",
    "plt.yscale('log')"
   ]
  },
  {
   "attachments": {
    "Z%20boson.png": {
     "image/png": "[encoded data removed]"
    }
   },
   "cell_type": "markdown",
   "metadata": {},
   "source": [
    "Compare this with \"Total Cross Section\" as a function of \"Center of Mass Energy\".\n",
    "\n",
    "![Z%20boson.png](attachment:Z%20boson.png)"
   ]
  },
  {
   "cell_type": "markdown",
   "metadata": {},
   "source": [
    "## Fitting Methods: Gaussian Distribution"
   ]
  },
  {
   "cell_type": "markdown",
   "metadata": {},
   "source": [
    "Fitting a curve to a set of data, such as bins in a histogram, means trying to find the curve that minimizes the vertical displacement of a data point from the fitted curve.\n",
    "\n",
    "A Gaussian distribution is defined by two parameters, $\\mu$ and $\\sigma^2$, namely the mean and the variance. The mean translates the curve left or right, centring it on the value which is expected to occur most frequently. The standard deviation indicates how easy is to deviate from the mean.\n",
    "\n",
    "By fitting a Gaussian, the mean (or centroid) of the peak, which represents the invariant mass of the Z boson for our histograms, can be determined by the following:\n",
    "\n",
    "$$P(x) = Ae^{-\\frac{1}{2} (\\frac{x-\\mu}{\\sigma})^2 }$$\n",
    "\n",
    "Where $\\mu$ is the centroid. "
   ]
  },
  {
   "cell_type": "markdown",
   "metadata": {},
   "source": [
    "## Fitting a Gaussian Distribution to Extract the Mass"
   ]
  },
  {
   "cell_type": "markdown",
   "metadata": {},
   "source": [
    "Look in the statistics printout above the histogram, can you find what variable represents the invarient mass? Compare this value to the literature value of 91.1876±0.0021 GeV/c2- is it within the uncertainty? \n",
    "\n",
    "Consider how might the fit be improved, should it have a smaller amplitude, or decrease more slowly? "
   ]
  },
  {
   "cell_type": "code",
   "execution_count": 205,
   "metadata": {},
   "outputs": [
    {
     "name": "stdout",
     "output_type": "stream",
     "text": [
      "[[Model]]\n",
      "    Model(gaussian)\n",
      "[[Fit Statistics]]\n",
      "    # fitting method   = leastsq\n",
      "    # function evals   = 37\n",
      "    # data points      = 14\n",
      "    # variables        = 3\n",
      "    chi-square         = 416.576830\n",
      "    reduced chi-square = 37.8706209\n",
      "    Akaike info crit   = 53.5021901\n",
      "    Bayesian info crit = 55.4193621\n",
      "    R-squared          = 0.90988898\n",
      "[[Variables]]\n",
      "    amplitude:  869.938448 +/- 75.8146224 (8.71%) (init = 2047.5)\n",
      "    center:     93.9623784 +/- 0.54709420 (0.58%) (init = 92.5)\n",
      "    sigma:      5.49676100 +/- 0.56504075 (10.28%) (init = 10.83333)\n",
      "    fwhm:       12.9438827 +/- 1.33056926 (10.28%) == '2.3548200*sigma'\n",
      "    height:     63.1381364 +/- 5.45049504 (8.63%) == '0.3989423*amplitude/max(1e-15, sigma)'\n",
      "[[Correlations]] (unreported correlations are < 0.250)\n",
      "    C(amplitude, sigma) = 0.598\n"
     ]
    },
    {
     "data": {
      "image/png": "[encoded data removed]",
      "text/plain": [
       "<Figure size 432x288 with 1 Axes>"
      ]
     },
     "metadata": {
      "needs_background": "light"
     },
     "output_type": "display_data"
    }
   ],
   "source": [
    "bin_edges = np.arange(start=35, # The interval includes this value\n",
    "                      stop=110, # The interval doesn't include this value\n",
    "                      step=5 ) # Spacing between values\n",
    "bin_centres = (bin_edges[:-1] + bin_edges[1:]) / 2 # central values of each bin\n",
    "\n",
    "# histogram the data\n",
    "data_x,_ = np.histogram(data_all['mll'], bins=bin_edges ) \n",
    "plt.hist(data_all['mll'], bins=bin_edges, edgecolor='black', linewidth=1.2)\n",
    "\n",
    "# statistical error on the data\n",
    "data_x_errors = np.sqrt(data_x)\n",
    "\n",
    "# plot the data points\n",
    "plt.errorbar(x=bin_centres, \n",
    "                   y=data_x, \n",
    "                   yerr=data_x_errors,\n",
    "                   fmt='ko' ) # 'k' means black and 'o' is for circles\n",
    "\n",
    "# Gaussian Fit Function :\n",
    "mod = GaussianModel()\n",
    "\n",
    "pars = mod.guess(data_x, x=bin_centres)\n",
    "out_gauss = mod.fit(data_x, pars, x=bin_centres)\n",
    "\n",
    "plt.plot(bin_centres, out_gauss.init_fit, '--r', label='Fit')\n",
    "\n",
    "print(out_gauss.fit_report(min_correl=0.25))\n",
    "\n",
    "plt.legend()\n",
    "\n",
    "#Axis Titles\n",
    "plt.xlabel('Mll [GeV]')\n",
    "plt.ylabel('Events')\n",
    "plt.title('Invariant Mass Histogram with Gaussian Fit')\n",
    "\n",
    "# make the y-axis log scale\n",
    "figsize=(10, 8)"
   ]
  },
  {
   "cell_type": "markdown",
   "metadata": {},
   "source": [
    "<a id='going_further'></a>"
   ]
  },
  {
   "cell_type": "markdown",
   "metadata": {},
   "source": [
    "## Fitting Methods: Breit-Wigner Distribution"
   ]
  },
  {
   "cell_type": "markdown",
   "metadata": {},
   "source": [
    "The Breit-Wigner distribution descreases more slowly than a Gaussian, a Gaussian with the same full width half max (FWHM) as the Breit-Wigner distribution would be even narrower. The distribution is defined by the following:\n",
    "\n",
    "$$P(E) = \\frac{k}{(E^2-M^2)^2 + M^2\\Gamma^2}$$\n",
    "\n",
    "where $k = \\frac{2\\sqrt{2}M\\Gamma\\gamma}{\\pi\\sqrt{M^2+\\gamma}}$, and $\\gamma = \\sqrt{M^2(M^2+\\Gamma^2)}$.\n",
    "\n",
    "This distribution can be used to get valuable information from the histogram, much like the Gaussian. E is the center-of-mass energy that produces the resonance, M is the mass of the resonance, and $\\Gamma$ is the resonance width (or decay width), related to its mean lifetime according to $\\tau$ = $\\frac{1}{\\Gamma}$.\n",
    "\n",
    "In particle physics, a propagator is a function that specifies the probability amplitude for a particle to travel from one place to another in a given period of time, or to travel with a certain energy and momentum. The form of this Breit–Wigner distribution arises from the propagator of the particle, which has a denominator of the form: $p^2 − M^2 + iM\\Gamma$, where $p^2$ is the square of the four-momentum carried by that particle in the Feynman diagram. \n",
    "\n",
    "The propagator in its rest frame then is proportional to the propability amplitude for the particle's decay:\n",
    "\n",
    "$${\\frac{\\sqrt {k}}{\\left(E^{2}-M^{2}\\right)+iM\\Gamma }}$$\n",
    "\n",
    "It is clear that the resulting probability distribution would be proportional to the absolute square of this amplitude. Thus, the probability of producing the resonance at a given energy E is proportional to P(E), so that a plot of the production rate of a particle as a function of energy traces out the shape of the relativistic Breit–Wigner distribution."
   ]
  },
  {
   "cell_type": "markdown",
   "metadata": {},
   "source": [
    "## Fitting a Breit–Wigner Distribution to Extract the Mass"
   ]
  },
  {
   "cell_type": "markdown",
   "metadata": {},
   "source": [
    "Look in the statistics printout above the histogram, can you find what variable represents the invarient mass? Compare this value to the literature value of 91.1876±0.0021 GeV/c2 as well as the value you got from the Gaussian fit. Is this fit an improvement? \n",
    "\n",
    "\n",
    "The R-squared value indicates how well the function fits the data, the closer it is to 1, the better. Compare the R-squared values of this fit and that of the Gaussian, which represents the data better?"
   ]
  },
  {
   "cell_type": "code",
   "execution_count": 206,
   "metadata": {
    "scrolled": false
   },
   "outputs": [
    {
     "name": "stdout",
     "output_type": "stream",
     "text": [
      "[[Model]]\n",
      "    Model(lorentzian)\n",
      "[[Fit Statistics]]\n",
      "    # fitting method   = leastsq\n",
      "    # function evals   = 29\n",
      "    # data points      = 14\n",
      "    # variables        = 3\n",
      "    chi-square         = 150.184489\n",
      "    reduced chi-square = 13.6531353\n",
      "    Akaike info crit   = 39.2192999\n",
      "    Bayesian info crit = 41.1364719\n",
      "    R-squared          = 0.96751313\n",
      "[[Variables]]\n",
      "    amplitude:  1185.19474 +/- 73.9468054 (6.24%) (init = 2559.375)\n",
      "    center:     93.9467194 +/- 0.31643286 (0.34%) (init = 92.5)\n",
      "    sigma:      5.44599609 +/- 0.50546687 (9.28%) (init = 10.83333)\n",
      "    fwhm:       10.8919922 +/- 1.01093374 (9.28%) == '2.0000000*sigma'\n",
      "    height:     69.2727670 +/- 4.29658976 (6.20%) == '0.3183099*amplitude/max(1e-15, sigma)'\n",
      "[[Correlations]] (unreported correlations are < 0.250)\n",
      "    C(amplitude, sigma) = 0.748\n"
     ]
    },
    {
     "data": {
      "image/png": "[encoded data removed]",
      "text/plain": [
       "<Figure size 432x288 with 1 Axes>"
      ]
     },
     "metadata": {
      "needs_background": "light"
     },
     "output_type": "display_data"
    }
   ],
   "source": [
    "plt.hist(data_all['mll'], bins=bin_edges, edgecolor='black', linewidth=1.2)\n",
    "plt.errorbar(x=bin_centres, \n",
    "                   y=data_x, \n",
    "                   yerr=data_x_errors,\n",
    "                   fmt='ko' ) # 'k' means black and 'o' is for circles\n",
    "\n",
    "# Breit-Wigner Fit Function :\n",
    "mod = LorentzianModel()\n",
    "pars = mod.guess(data_x, x=bin_centres)\n",
    "out_bw = mod.fit(data_x, pars, x=bin_centres)\n",
    "\n",
    "plt.plot(bin_centres, out_bw.init_fit, '--r', label='Fit')\n",
    "\n",
    "print(out_bw.fit_report(min_correl=0.25))\n",
    "\n",
    "plt.legend()\n",
    "\n",
    "#Axis Titles\n",
    "plt.xlabel('Mll [GeV]')\n",
    "plt.ylabel('Events')\n",
    "plt.title('Invariant Mass Histogram with Breit-Wigner Fit')\n",
    "\n",
    "# make the y-axis log scale\n",
    "figsize=(10, 8)"
   ]
  },
  {
   "cell_type": "markdown",
   "metadata": {},
   "source": [
    "## Fitting Methods: Voigt Distribution"
   ]
  },
  {
   "cell_type": "markdown",
   "metadata": {},
   "source": [
    "We have seen how a Gaussian is a *pretty good* fit to the data, and how a Breit-Wigner does a better job, and is theoretically a great fit. There is, however, one last fit we can try to improve the accuracy of our result. \n",
    "\n",
    "In experiment, the incident beam that produces resonance always has some spread of energy around a central value, this uncertainty follows a Gaussian distribution. \n",
    "\n",
    "To account for this we can use a Voigt profile, which is a probability distribution given by a convolution of a Breit-Wigner distribution and a Gaussian distribution. Convolution is a mathematical operation on two functions that produces a third function which expresses how the shape of one is modified by the other. So since our Breit-Wigner fit is being modified by uncertainty modelled by a Gaussian, we can use this to create a really accurate fit!\n",
    "\n",
    "$${P(E)=\\int _{-\\infty }^{\\infty }{\\frac {k}{(E'^{2}-M^{2})^{2}+(M\\Gamma )^{2}}}{\\frac {1}{\\sigma {\\sqrt {2\\pi }}}}e^{-{\\frac {(E'-E)^{2}}{2\\sigma ^{2}}}}dE'}$$"
   ]
  },
  {
   "cell_type": "markdown",
   "metadata": {},
   "source": [
    "## Fitting a Voigt Distribution (Convolution) to Extract the Mass"
   ]
  },
  {
   "cell_type": "markdown",
   "metadata": {},
   "source": [
    "Look in the statistics printout above the histogram, can you find what variable represents the invarient mass? Compare this value to the literature value of 91.1876±0.0021 GeV/c2 as well as the values from both previous fits. Is this fit the closest to the literature value?\n",
    "\n",
    "Look once again at the R-squared value, does this fit represent the data better than the others? "
   ]
  },
  {
   "cell_type": "code",
   "execution_count": 207,
   "metadata": {},
   "outputs": [
    {
     "name": "stdout",
     "output_type": "stream",
     "text": [
      "[[Model]]\n",
      "    Model(voigt)\n",
      "[[Fit Statistics]]\n",
      "    # fitting method   = leastsq\n",
      "    # function evals   = 37\n",
      "    # data points      = 14\n",
      "    # variables        = 3\n",
      "    chi-square         = 238.665023\n",
      "    reduced chi-square = 21.6968203\n",
      "    Akaike info crit   = 45.7040513\n",
      "    Bayesian info crit = 47.6212233\n",
      "    R-squared          = 0.94837363\n",
      "[[Variables]]\n",
      "    amplitude:  1051.97044 +/- 74.6875321 (7.10%) (init = 3071.25)\n",
      "    center:     93.8995388 +/- 0.41025253 (0.44%) (init = 92.5)\n",
      "    sigma:      3.33431274 +/- 0.31171401 (9.35%) (init = 7.041667)\n",
      "    gamma:      3.33431274 +/- 0.31171401 (9.35%) == 'sigma'\n",
      "    fwhm:       12.0078292 +/- 0.68262961 (5.68%) == '1.0692*gamma+sqrt(0.8664*gamma**2+5.545083*sigma**2)'\n",
      "    height:     65.8474508 +/- 3.45153186 (5.24%) == '(amplitude/(max(1e-15, sigma*sqrt(2*pi))))*wofz((1j*gamma)/(max(1e-15, sigma*sqrt(2)))).real'\n",
      "[[Correlations]] (unreported correlations are < 0.250)\n",
      "    C(amplitude, sigma) = 0.676\n"
     ]
    },
    {
     "data": {
      "image/png": "[encoded data removed]",
      "text/plain": [
       "<Figure size 432x288 with 1 Axes>"
      ]
     },
     "metadata": {
      "needs_background": "light"
     },
     "output_type": "display_data"
    }
   ],
   "source": [
    "plt.hist(data_all['mll'], bins=bin_edges, edgecolor='black', linewidth=1.2)\n",
    "plt.errorbar(x=bin_centres, \n",
    "                   y=data_x, \n",
    "                   yerr=data_x_errors,\n",
    "                   fmt='ko' ) # 'k' means black and 'o' is for circles\n",
    "\n",
    "# Voigt Fit Function :\n",
    "mod = VoigtModel()\n",
    "\n",
    "pars = mod.guess(data_x, x=bin_centres)\n",
    "out_voigt = mod.fit(data_x, pars, x=bin_centres)\n",
    "\n",
    "plt.plot(bin_centres, out_voigt.init_fit, '--r', label='Fit')\n",
    "\n",
    "print(out_voigt.fit_report(min_correl=0.25))\n",
    "\n",
    "plt.legend()\n",
    "\n",
    "#Axis Titles\n",
    "plt.xlabel('Mll [GeV]')\n",
    "plt.ylabel('Events')\n",
    "plt.title('Invariant Mass Histogram with Voigt Fit')\n",
    "\n",
    "# make the y-axis log scale\n",
    "figsize=(10, 8)"
   ]
  },
  {
   "cell_type": "markdown",
   "metadata": {},
   "source": [
    "## Fit Comparison!"
   ]
  },
  {
   "cell_type": "markdown",
   "metadata": {},
   "source": [
    "Now we will print all the fits on the same graph to have a direct comparison. Compare different statistics such as the standard deviation, chi-squared, and full-width-half-maximum to better understand the shape and accuracy of each function. Fill out the table with the centroid values and uncertainties to see what fit is closest to the literature value!\n",
    "\n",
    "| Fit Function | Centroid | Uncertainty |\n",
    "| :- | -: | :-: |\n",
    "| Gaussian | 93.9623784 | $\\pm$0.54709420\n",
    "| Breit-Wigner | 93.9467194 | $\\pm$0.31643286\n",
    "| Voigt | 93.8995388 | $\\pm$0.41025253"
   ]
  },
  {
   "cell_type": "code",
   "execution_count": 210,
   "metadata": {},
   "outputs": [
    {
     "data": {
      "image/png": "[encoded data removed]",
      "text/plain": [
       "<Figure size 432x288 with 1 Axes>"
      ]
     },
     "metadata": {
      "needs_background": "light"
     },
     "output_type": "display_data"
    }
   ],
   "source": [
    "plt.hist(data_all['mll'], bins=bin_edges, edgecolor='black', linewidth=1.2)\n",
    "plt.errorbar(x=bin_centres, \n",
    "                   y=data_x, \n",
    "                   yerr=data_x_errors,\n",
    "                   fmt='ko' ) # 'k' means black and 'o' is for circles\n",
    "\n",
    "\n",
    "plt.plot(bin_centres, out_bw.init_fit, '--', label='Breit-Wigner Fit')\n",
    "plt.plot(bin_centres, out_gauss.init_fit, '--', label='Gaussian Fit')\n",
    "plt.plot(bin_centres, out_voigt.init_fit, '--', label='Voigt Fit')\n",
    "\n",
    "plt.legend()\n",
    "\n",
    "#Axis Titles\n",
    "plt.xlabel('Mll [GeV]')\n",
    "plt.ylabel('Events')\n",
    "plt.title('Invariant Mass Histogram with Voigt Fit')\n",
    "\n",
    "# make the y-axis log scale\n",
    "figsize=(10, 8)"
   ]
  },
  {
   "cell_type": "markdown",
   "metadata": {},
   "source": [
    "[Back to contents](#contents)"
   ]
  }
 ],
 "metadata": {
  "kernelspec": {
   "display_name": "Python 3 (ipykernel)",
   "language": "python",
   "name": "python3"
  },
  "language_info": {
   "codemirror_mode": {
    "name": "ipython",
    "version": 3
   },
   "file_extension": ".py",
   "mimetype": "text/x-python",
   "name": "python",
   "nbconvert_exporter": "python",
   "pygments_lexer": "ipython3",
   "version": "3.9.12"
  }
 },
 "nbformat": 4,
 "nbformat_minor": 4
}
